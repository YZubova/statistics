{
 "cells": [
  {
   "cell_type": "markdown",
   "metadata": {},
   "source": [
    "# Lesson 4 Assignment - Automobile Price Hypothesis Testing\n",
    "## Author - Yulia Zubova"
   ]
  },
  {
   "cell_type": "markdown",
   "metadata": {},
   "source": [
    "### Instructions\n",
    "Test hypotheses for the price of automobiles:\n",
    "\n",
    "1. Compare and test Normality the distributions of **price** and **log price** <br/>\n",
    "Use both a graphical method and a formal test. Hint: Remember these relationships will always be approximate.\n",
    "\n",
    "2. Test significance of **price (or log price)** stratified by \n",
    "a) **fuel type**, b) **aspiration**, and c) **rear vs. front wheel drive**. <br />Use both graphical methods and the formal test.\n",
    "\n",
    "3. Apply ANOVA and Tukey's HSD test to the auto price data to compare the **price (or log price** if closer to a Normal distribution) of autos stratified by **body style**.\n",
    "\n",
    "4. Graphically explore the differences between the price conditioned by the categories of each variable <br/>\n",
    "Hint: Make sure you have enough data for each category and drop categories with insufficient data.\n",
    "\n",
    "5. Use standard ANOVA and Tukey HSD to test the differences of these groups.\n"
   ]
  },
  {
   "cell_type": "markdown",
   "metadata": {},
   "source": [
    "#### Note: \n",
    "Please clearly outline the results of these tests with markdown text. Be sure your discussion includes narrative for your figures and tables so it is clear to the reader the importance of each bit of evidence."
   ]
  },
  {
   "cell_type": "code",
   "execution_count": 28,
   "metadata": {
    "collapsed": true
   },
   "outputs": [],
   "source": [
    "# Cleaned up Dataset location\n",
    "fileName = \"https://library.startlearninglabs.uw.edu/DATASCI410/Datasets/Automobile%20price%20data%20_Raw_.csv\"\n",
    "            #https://library.startlearninglabs.uw.edu/DATASCI410/Datasets/Automobile%20price%20data%20_Raw_.csv"
   ]
  },
  {
   "cell_type": "code",
   "execution_count": 29,
   "metadata": {
    "collapsed": true
   },
   "outputs": [],
   "source": [
    "# Import libraries\n",
    "import pandas as pd\n",
    "import scipy.stats as ss\n",
    "from scipy.stats import norm\n",
    "import numpy.random as nr\n",
    "import matplotlib.pyplot as plt\n",
    "import seaborn as sns\n",
    "from statistics import mean\n",
    "from scipy import stats\n",
    "import statsmodels.stats.weightstats as ws\n",
    "import statsmodels.stats.power as smsp\n",
    "import numpy as np\n",
    "from math import sqrt\n",
    "from statsmodels.stats.multicomp import pairwise_tukeyhsd\n",
    "from operator import add\n",
    "import math\n",
    "from sklearn.preprocessing import scale"
   ]
  },
  {
   "cell_type": "code",
   "execution_count": 30,
   "metadata": {
    "collapsed": true
   },
   "outputs": [],
   "source": [
    "#Import dataset\n",
    "auto_price = pd.read_csv(fileName)"
   ]
  },
  {
   "cell_type": "code",
   "execution_count": 36,
   "metadata": {
    "collapsed": true
   },
   "outputs": [],
   "source": [
    "#Clean rows with missing data\n",
    "auto_price = auto_price.replace(to_replace=\"?\", value=float(\"NaN\"))\n",
    "auto_price.dropna(axis = 0, inplace = True)"
   ]
  },
  {
   "cell_type": "code",
   "execution_count": 37,
   "metadata": {},
   "outputs": [],
   "source": [
    "auto_price['price'] = auto_price['price'].astype(float)\n",
    "#auto_price['price'] = pd.to_numeric(auto_price['price'])"
   ]
  },
  {
   "cell_type": "code",
   "execution_count": 8,
   "metadata": {},
   "outputs": [
    {
     "name": "stdout",
     "output_type": "stream",
     "text": [
      "<class 'pandas.core.frame.DataFrame'>\n",
      "Int64Index: 159 entries, 3 to 204\n",
      "Data columns (total 26 columns):\n",
      "symboling            159 non-null int64\n",
      "normalized-losses    159 non-null object\n",
      "make                 159 non-null object\n",
      "fuel-type            159 non-null object\n",
      "aspiration           159 non-null object\n",
      "num-of-doors         159 non-null object\n",
      "body-style           159 non-null object\n",
      "drive-wheels         159 non-null object\n",
      "engine-location      159 non-null object\n",
      "wheel-base           159 non-null float64\n",
      "length               159 non-null float64\n",
      "width                159 non-null float64\n",
      "height               159 non-null float64\n",
      "curb-weight          159 non-null int64\n",
      "engine-type          159 non-null object\n",
      "num-of-cylinders     159 non-null object\n",
      "engine-size          159 non-null int64\n",
      "fuel-system          159 non-null object\n",
      "bore                 159 non-null object\n",
      "stroke               159 non-null object\n",
      "compression-ratio    159 non-null float64\n",
      "horsepower           159 non-null object\n",
      "peak-rpm             159 non-null object\n",
      "city-mpg             159 non-null int64\n",
      "highway-mpg          159 non-null int64\n",
      "price                159 non-null object\n",
      "dtypes: float64(5), int64(5), object(16)\n",
      "memory usage: 33.5+ KB\n"
     ]
    }
   ],
   "source": [
    "auto_price.info()"
   ]
  },
  {
   "cell_type": "markdown",
   "metadata": {},
   "source": [
    "## 1. Normality test of the distributions of price and log price "
   ]
  },
  {
   "cell_type": "code",
   "execution_count": 40,
   "metadata": {},
   "outputs": [],
   "source": [
    "#Add new column \"log_price\"\n",
    "auto_price['log_price'] = np.log(auto_price['price'])"
   ]
  },
  {
   "cell_type": "markdown",
   "metadata": {},
   "source": [
    "Null hypothesis: \n",
    "- Column 'price' has a normal distribution.\n",
    "- Column 'log_price' has a normal distribution."
   ]
  },
  {
   "cell_type": "code",
   "execution_count": 12,
   "metadata": {},
   "outputs": [
    {
     "data": {
      "image/png": "[encoded data removed]",
      "text/plain": [
       "<matplotlib.figure.Figure at 0x2340441a048>"
      ]
     },
     "metadata": {},
     "output_type": "display_data"
    }
   ],
   "source": [
    "#Histogram of column 'price'\n",
    "auto_price['price'].hist()\n",
    "plt.show()"
   ]
  },
  {
   "cell_type": "code",
   "execution_count": 13,
   "metadata": {},
   "outputs": [
    {
     "data": {
      "image/png": "[encoded data removed]",
      "text/plain": [
       "<matplotlib.figure.Figure at 0x23404708160>"
      ]
     },
     "metadata": {},
     "output_type": "display_data"
    }
   ],
   "source": [
    "#Histogram of column 'log_price'\n",
    "auto_price['log_price'].hist()\n",
    "plt.show()"
   ]
  },
  {
   "cell_type": "markdown",
   "metadata": {},
   "source": [
    "According the histograms distribution of log_price is more likely normal then distribution of price."
   ]
  },
  {
   "cell_type": "markdown",
   "metadata": {},
   "source": [
    "## Graphical method ##"
   ]
  },
  {
   "cell_type": "markdown",
   "metadata": {},
   "source": [
    "For distribution test I'm going to use Q-Q plot (graphic method) and Kolmogorov-Smirnov test (formal test)."
   ]
  },
  {
   "cell_type": "code",
   "execution_count": 16,
   "metadata": {},
   "outputs": [
    {
     "data": {
      "image/png": "[encoded data removed]",
      "text/plain": [
       "<matplotlib.figure.Figure at 0x23404b06128>"
      ]
     },
     "metadata": {},
     "output_type": "display_data"
    }
   ],
   "source": [
    "# Function for QQ plot building\n",
    "def qq_plot(vec1, vec2):\n",
    "    import matplotlib.pyplot as plt\n",
    "    import scipy.stats as ss\n",
    "    plt.figure(figsize=(6, 6)).gca() # define axis\n",
    "    ax1 = plt.subplot(221) ## setup the left subplot\n",
    "    ss.probplot(vec1, plot = ax1) ## Plot the left subplot\n",
    "    ax1 = plt.subplot(222) ## Set up the right subplot\n",
    "    ss.probplot(vec2, plot = ax1) ## Plot the right subplot\n",
    "\n",
    "    \n",
    "#Show QQ plot of price and log_price\n",
    "qq_plot(auto_price['price'], auto_price['log_price'])   \n",
    "plt.show()"
   ]
  },
  {
   "cell_type": "markdown",
   "metadata": {},
   "source": [
    "If the points of the QQ plot fall on an approximately straight line, we can conclude that the sample distribution is close to the thoretical (normal in our case).\n",
    "According to the plots, 'log_price' has a distribution similar to normal."
   ]
  },
  {
   "cell_type": "markdown",
   "metadata": {},
   "source": [
    "## Formal test ##"
   ]
  },
  {
   "cell_type": "markdown",
   "metadata": {},
   "source": [
    "Let's perform  Kolmogorov-Smirnov test and count KS-statistics values and p-values for columns 'price' and 'log_price'."
   ]
  },
  {
   "cell_type": "code",
   "execution_count": 17,
   "metadata": {},
   "outputs": [
    {
     "name": "stdout",
     "output_type": "stream",
     "text": [
      "KS-statistic = 0.190858556056\n",
      "P-value = 1.5137283208e-05\n"
     ]
    }
   ],
   "source": [
    "price_scale = scale(auto_price['price'])\n",
    "def ks_test(dat, dist = 'norm'):\n",
    "    from scipy.stats import kstest \n",
    "    ks_statisic, pvalue = kstest(dat, dist)\n",
    "    print('KS-statistic = ' + str(ks_statisic))\n",
    "    print('P-value = ' + str(pvalue))\n",
    "ks_test(price_scale)    "
   ]
  },
  {
   "cell_type": "code",
   "execution_count": 18,
   "metadata": {},
   "outputs": [
    {
     "name": "stdout",
     "output_type": "stream",
     "text": [
      "KS-statistic = 0.119748225508\n",
      "P-value = 0.0191546307503\n"
     ]
    }
   ],
   "source": [
    "logprice_scale = scale(auto_price['log_price'])\n",
    "def ks_test(dat, dist = 'norm'):\n",
    "    from scipy.stats import kstest \n",
    "    ks_statisic, pvalue = kstest(dat, dist)\n",
    "    print('KS-statistic = ' + str(ks_statisic))\n",
    "    print('P-value = ' + str(pvalue))\n",
    "ks_test(logprice_scale)        "
   ]
  },
  {
   "cell_type": "markdown",
   "metadata": {},
   "source": [
    "For price and log_price P-value is small, so we can decline null hypotesis according this test only. \n",
    "Price and log_price don't have normal distribution (but in case with log_price p-value is not significally less than significansce level, so distribution could be close to normal, and KS-statistic is small too)."
   ]
  },
  {
   "cell_type": "markdown",
   "metadata": {},
   "source": [
    "## 2. Significance test of price stratified by a) fuel type, b) aspiration, and c) rear vs. front wheel drive ##"
   ]
  },
  {
   "cell_type": "markdown",
   "metadata": {},
   "source": [
    "Assume null hypotesis that difference in price means in different groups is not significant.\n",
    "Test this hypotesis in groups spreaded by fuel type, aspiration and wheel-drive type (rear vs front).\n",
    "\n",
    "For hypotesis testing will use double-sided t-test."
   ]
  },
  {
   "cell_type": "code",
   "execution_count": 19,
   "metadata": {
    "collapsed": true
   },
   "outputs": [],
   "source": [
    "# functions, creating histograms of the two populations along with a line for the mean of each population\n",
    "%matplotlib inline\n",
    "def hist_plot(vec, bins):\n",
    "    import matplotlib.pyplot as plt\n",
    "    from statistics import mean\n",
    "    plt.hist(vec, bins = bins)\n",
    "    plt.axvline(mean(vec), color = 'red')\n",
    "    plt.ylabel('Frequency')\n",
    "    plt.xlabel('Value')\n",
    "    \n",
    "def plot_pop(a, b, cols=['pop_A', 'pop_B'], nbins = 20):\n",
    "    import matplotlib.pyplot as plt\n",
    "    minx = min([min(a), min(b)])\n",
    "    maxx = max([max(a), max(b)])\n",
    "    stepx = (maxx - minx)/(nbins + 1)\n",
    "    bins = [minx + i * stepx for i in range(nbins + 1)]\n",
    "    plt.subplot(2, 1, 1) # The first plot\n",
    "    hist_plot(a, bins)\n",
    "    plt.title('Histograme of ' + cols[0] + ' and ' + cols[1])\n",
    "    plt.subplot(2, 1, 2) # The next plot\n",
    "    hist_plot(b, bins)\n",
    "\n"
   ]
  },
  {
   "cell_type": "code",
   "execution_count": 20,
   "metadata": {
    "collapsed": true
   },
   "outputs": [],
   "source": [
    "# hystogram of population with mean ans the the upper and lower confidence bounds\n",
    "def hist_mean_ci(vec, t_test, bins):\n",
    "    import matplotlib.pyplot as plt\n",
    "    from statistics import mean\n",
    "    upper = mean(vec) + t_test[5] - t_test[1]\n",
    "    lower = mean(vec) + t_test[4] - t_test[1]\n",
    "    plt.hist(vec, bins = bins)\n",
    "    plt.axvline(mean(vec), color = 'red')\n",
    "    plt.axvline(upper, color = 'red', linestyle='--')\n",
    "    plt.axvline(lower, color = 'red', linestyle='--')\n",
    "    plt.ylabel('Frequency')\n",
    "    plt.xlabel('Value')\n",
    "\n",
    "def plot_t(a, b, t_test, cols=['pop_A', 'pop_B'], nbins = 20):\n",
    "    import matplotlib.pyplot as plt\n",
    "    minx = min([min(a), min(b)])\n",
    "    maxx = max([max(a), max(b)])\n",
    "    stepx = (maxx - minx)/(nbins + 1)\n",
    "    bins = [minx + i * stepx for i in range(nbins + 1)]\n",
    "    plt.subplot(2, 1, 1) # The first plot\n",
    "    hist_mean_ci(a, t_test, bins)\n",
    "    plt.title('Histogram of ' + cols[0] + ' and ' + cols[1])\n",
    "    plt.subplot(2, 1, 2) # The next plot\n",
    "    hist_plot(b, bins)"
   ]
  },
  {
   "cell_type": "code",
   "execution_count": 21,
   "metadata": {
    "collapsed": true
   },
   "outputs": [],
   "source": [
    "#Function, executing double-sided t-test\n",
    "def t_test(a, b, alpha, alternative='two-sided'):\n",
    "    from scipy import stats\n",
    "    import scipy.stats as ss\n",
    "    import pandas as pd\n",
    "    import statsmodels.stats.weightstats as ws\n",
    "    \n",
    "    diff = a.mean() - b.mean()\n",
    "\n",
    "    res = ss.ttest_ind(a, b) # generate a t-statistic from a and b \n",
    "      \n",
    "    means = ws.CompareMeans(ws.DescrStatsW(a), ws.DescrStatsW(b)) # create an opbject containing both sets of data\n",
    "\n",
    "    confint = means.tconfint_diff(alpha=alpha, alternative=alternative, usevar='unequal') # generate the confidence interval for the difference in means\n",
    "    degfree = means.dof_satt() # effective degrees of freedom of Satterthwaite for unequal variance. https://en.wikipedia.org/wiki/Welch%E2%80%93Satterthwaite_equation\n",
    "    \n",
    "    index = ['DegFreedom', 'Difference', 'Statistic', 'PValue', 'Low95CI', 'High95CI']\n",
    "    return pd.Series([degfree, diff, res[0], res[1], confint[0], confint[1]], index = index)   \n",
    "   "
   ]
  },
  {
   "cell_type": "markdown",
   "metadata": {},
   "source": [
    "### By fuel type ###"
   ]
  },
  {
   "cell_type": "code",
   "execution_count": 22,
   "metadata": {},
   "outputs": [
    {
     "data": {
      "text/plain": [
       "gas       144\n",
       "diesel     15\n",
       "Name: fuel-type, dtype: int64"
      ]
     },
     "execution_count": 22,
     "metadata": {},
     "output_type": "execute_result"
    }
   ],
   "source": [
    "#Check amount distinct values of column 'fuel-type'\n",
    "auto_price['fuel-type'].value_counts()"
   ]
  },
  {
   "cell_type": "code",
   "execution_count": 25,
   "metadata": {},
   "outputs": [
    {
     "name": "stdout",
     "output_type": "stream",
     "text": [
      "DegFreedom       15.050468\n",
      "Difference    -5238.023611\n",
      "Statistic        -3.391997\n",
      "PValue            0.000878\n",
      "Low95CI      -10206.501896\n",
      "High95CI       -269.545326\n",
      "dtype: float64\n"
     ]
    },
    {
     "data": {
      "image/png": "[encoded data removed]",
      "text/plain": [
       "<matplotlib.figure.Figure at 0x23404b77b70>"
      ]
     },
     "metadata": {},
     "output_type": "display_data"
    }
   ],
   "source": [
    "#samples by fuel-type\n",
    "gas = auto_price.loc[auto_price.loc[:, 'fuel-type'] == 'gas', 'price']\n",
    "diesel = auto_price.loc[auto_price.loc[:, 'fuel-type'] == 'diesel', 'price']\n",
    "\n",
    "#t-test\n",
    "test_fuel = t_test(gas, diesel, alpha = 0.05)\n",
    "print(test_fuel)\n",
    "plot_t(gas, diesel, test_fuel, cols=['gas autos', 'diesel autos'])"
   ]
  },
  {
   "cell_type": "markdown",
   "metadata": {},
   "source": [
    "1. The t-statistic is large (by absolute value), the p-value is small and the confidence interval of the difference of the means does not overlap zero. We can reject the null hypothesis that the means are the same and there aren't significant differences in price for gas and diesel cars. There is a low chance that the difference is from random variation alone.\n",
    "2. The mean of the second sample falls outside the confidence interval, confirming that there is a low chance that the difference is from random variation alone."
   ]
  },
  {
   "cell_type": "markdown",
   "metadata": {},
   "source": [
    "### By aspiration ### "
   ]
  },
  {
   "cell_type": "code",
   "execution_count": 59,
   "metadata": {},
   "outputs": [
    {
     "data": {
      "text/plain": [
       "std      132\n",
       "turbo     27\n",
       "Name: aspiration, dtype: int64"
      ]
     },
     "execution_count": 59,
     "metadata": {},
     "output_type": "execute_result"
    }
   ],
   "source": [
    "#Check amount distinct values of column 'aspiration'\n",
    "auto_price['aspiration'].value_counts()"
   ]
  },
  {
   "cell_type": "code",
   "execution_count": 27,
   "metadata": {},
   "outputs": [
    {
     "name": "stdout",
     "output_type": "stream",
     "text": [
      "DegFreedom    3.180572e+01\n",
      "Difference   -6.760904e+03\n",
      "Statistic    -6.023073e+00\n",
      "PValue        1.170476e-08\n",
      "Low95CI      -9.584033e+03\n",
      "High95CI     -3.937775e+03\n",
      "dtype: float64\n"
     ]
    },
    {
     "data": {
      "image/png": "[encoded data removed]",
      "text/plain": [
       "<matplotlib.figure.Figure at 0x23405319438>"
      ]
     },
     "metadata": {},
     "output_type": "display_data"
    }
   ],
   "source": [
    "#Samples by aspiration\n",
    "std = auto_price.loc[auto_price.loc[:, 'aspiration'] == 'std', 'price']\n",
    "turbo = auto_price.loc[auto_price.loc[:, 'aspiration'] == 'turbo', 'price']\n",
    "\n",
    "#t-test and plot\n",
    "test_aspiration = t_test(std, turbo, alpha = 0.05)\n",
    "print(test_aspiration)\n",
    "plot_t(std, turbo, test_aspiration, cols=['std autos', 'turbo autos'])"
   ]
  },
  {
   "cell_type": "markdown",
   "metadata": {},
   "source": [
    "1. The t-statistic is large (by absolute value), the p-value is small and the confidence interval of the difference of the means does not overlap zero. We can reject the null hypothesis that the means are the same and there aren't significant differences in price for standart and turbo cars. There is a low chance that the difference is from random variation alone.\n",
    "2. The mean of the second sample falls outside the confidence interval, confirming that there is a low chance that the difference is from random variation alone."
   ]
  },
  {
   "cell_type": "markdown",
   "metadata": {},
   "source": [
    "### By wheel drive type"
   ]
  },
  {
   "cell_type": "code",
   "execution_count": 58,
   "metadata": {},
   "outputs": [
    {
     "data": {
      "text/plain": [
       "fwd    105\n",
       "rwd     46\n",
       "4wd      8\n",
       "Name: drive-wheels, dtype: int64"
      ]
     },
     "execution_count": 58,
     "metadata": {},
     "output_type": "execute_result"
    }
   ],
   "source": [
    "#Check amount distinct values of column 'drive-wheels'\n",
    "auto_price['drive-wheels'].value_counts()"
   ]
  },
  {
   "cell_type": "code",
   "execution_count": 31,
   "metadata": {},
   "outputs": [
    {
     "name": "stdout",
     "output_type": "stream",
     "text": [
      "DegFreedom    5.490245e+01\n",
      "Difference    8.858179e+03\n",
      "Statistic     1.143320e+01\n",
      "PValue        3.965316e-22\n",
      "Low95CI       6.877018e+03\n",
      "High95CI      1.083934e+04\n",
      "dtype: float64\n"
     ]
    },
    {
     "data": {
      "image/png": "[encoded data removed]",
      "text/plain": [
       "<matplotlib.figure.Figure at 0x21a566e3ac8>"
      ]
     },
     "metadata": {},
     "output_type": "display_data"
    }
   ],
   "source": [
    "#Samples by drive-wheel type\n",
    "rwd = auto_price.loc[auto_price.loc[:, 'drive-wheels'] == 'rwd', 'price']\n",
    "fwd = auto_price.loc[auto_price.loc[:, 'drive-wheels'] == 'fwd', 'price']\n",
    "\n",
    "#t-test and plot\n",
    "test_drive = t_test(rwd, fwd, alpha = 0.05)\n",
    "print(test_drive)\n",
    "plot_t(rwd, fwd, test_drive, cols=['rwd autos', 'fwd autos'])"
   ]
  },
  {
   "cell_type": "markdown",
   "metadata": {},
   "source": [
    "1. The t-statistic is quite large, the p-value is small and the confidence interval of the difference of the means does not overlap zero. We can reject the null hypothesis that the means are the same and there aren't significant differences in price for rwd and fwd cars. There is a low chance that the difference is from random variation alone.\n",
    "2. The mean of the second sample falls outside the confidence interval, confirming that there is a low chance that the difference is from random variation alone."
   ]
  },
  {
   "cell_type": "markdown",
   "metadata": {},
   "source": [
    "## 3. ANOVA and Tukey's HSD test to compare the price (log price) of autos stratified by body style ##"
   ]
  },
  {
   "cell_type": "markdown",
   "metadata": {},
   "source": [
    "Null hypotesis: all variables (log_price stratified by body-style have the same mean)."
   ]
  },
  {
   "cell_type": "code",
   "execution_count": 38,
   "metadata": {},
   "outputs": [
    {
     "data": {
      "text/plain": [
       "sedan          79\n",
       "hatchback      56\n",
       "wagon          17\n",
       "hardtop         5\n",
       "convertible     2\n",
       "Name: body-style, dtype: int64"
      ]
     },
     "execution_count": 38,
     "metadata": {},
     "output_type": "execute_result"
    }
   ],
   "source": [
    "#Check amount distinct values of column 'body-style'\n",
    "auto_price['body-style'].value_counts()"
   ]
  },
  {
   "cell_type": "code",
   "execution_count": 32,
   "metadata": {},
   "outputs": [
    {
     "data": {
      "text/plain": [
       "?        4\n",
       "16500    2\n",
       "18150    2\n",
       "8495     2\n",
       "8921     2\n",
       "7295     2\n",
       "6692     2\n",
       "5572     2\n",
       "13499    2\n",
       "6229     2\n",
       "7957     2\n",
       "8845     2\n",
       "9279     2\n",
       "7775     2\n",
       "7609     2\n",
       "7898     2\n",
       "45400    1\n",
       "31600    1\n",
       "14399    1\n",
       "11850    1\n",
       "23875    1\n",
       "12764    1\n",
       "34028    1\n",
       "11845    1\n",
       "7349     1\n",
       "7603     1\n",
       "5151     1\n",
       "6855     1\n",
       "15645    1\n",
       "8949     1\n",
       "        ..\n",
       "13860    1\n",
       "8499     1\n",
       "6918     1\n",
       "35550    1\n",
       "15985    1\n",
       "8558     1\n",
       "12945    1\n",
       "13495    1\n",
       "5399     1\n",
       "12170    1\n",
       "17199    1\n",
       "22470    1\n",
       "24565    1\n",
       "9960     1\n",
       "16845    1\n",
       "13200    1\n",
       "11900    1\n",
       "7129     1\n",
       "15750    1\n",
       "12629    1\n",
       "16925    1\n",
       "6377     1\n",
       "13415    1\n",
       "7689     1\n",
       "8013     1\n",
       "16430    1\n",
       "15250    1\n",
       "6295     1\n",
       "21105    1\n",
       "5195     1\n",
       "Name: price, Length: 187, dtype: int64"
      ]
     },
     "execution_count": 32,
     "metadata": {},
     "output_type": "execute_result"
    }
   ],
   "source": [
    "auto_price['price'].value_counts()"
   ]
  },
  {
   "cell_type": "markdown",
   "metadata": {},
   "source": [
    "In case the distribution of log_price is more likely normal, I'll use log_price in following tests."
   ]
  },
  {
   "cell_type": "code",
   "execution_count": 41,
   "metadata": {},
   "outputs": [
    {
     "data": {
      "text/plain": [
       "3       9.543235\n",
       "4       9.767095\n",
       "6       9.781885\n",
       "8      10.080587\n",
       "10      9.706864\n",
       "11      9.736547\n",
       "12      9.950848\n",
       "13      9.957265\n",
       "20      8.791030\n",
       "25      8.808668\n",
       "26      8.937087\n",
       "35      8.894944\n",
       "39      9.087608\n",
       "40      9.239414\n",
       "41      9.468465\n",
       "42      9.244259\n",
       "47     10.381273\n",
       "53      8.809116\n",
       "54      8.908559\n",
       "60      9.047233\n",
       "62      9.234545\n",
       "65      9.813563\n",
       "67     10.148471\n",
       "70     10.360912\n",
       "85      8.852093\n",
       "86      9.010547\n",
       "87      9.135509\n",
       "88      9.135509\n",
       "89      8.612322\n",
       "90      8.867709\n",
       "         ...    \n",
       "141     8.871505\n",
       "142     8.958669\n",
       "143     9.206332\n",
       "144     9.130539\n",
       "145     9.328923\n",
       "156     8.844769\n",
       "158     8.974365\n",
       "160     8.953899\n",
       "162     9.133243\n",
       "163     8.994421\n",
       "165     9.137555\n",
       "173     9.099185\n",
       "174     9.277812\n",
       "176     9.296335\n",
       "180     9.660779\n",
       "182     8.958669\n",
       "183     8.984067\n",
       "184     8.986572\n",
       "185     9.011279\n",
       "186     9.047233\n",
       "187     9.158521\n",
       "188     9.209840\n",
       "194     9.468079\n",
       "196     9.679406\n",
       "198     9.821192\n",
       "200     9.731809\n",
       "201     9.854560\n",
       "202     9.975110\n",
       "203    10.019936\n",
       "204    10.026811\n",
       "Name: log_price, Length: 79, dtype: float64"
      ]
     },
     "execution_count": 41,
     "metadata": {},
     "output_type": "execute_result"
    }
   ],
   "source": [
    "#Create samples by different body-styles\n",
    "sedan = auto_price.loc[auto_price.loc[:, 'body-style'] == 'sedan', 'log_price']\n",
    "hatchback = auto_price.loc[auto_price.loc[:, 'body-style'] == 'hatchback', 'log_price']\n",
    "wagon = auto_price.loc[auto_price.loc[:, 'body-style'] == 'wagon', 'log_price']\n",
    "hardtop = auto_price.loc[auto_price.loc[:, 'body-style'] == 'hardtop', 'log_price']\n",
    "convertible = auto_price.loc[auto_price.loc[:, 'body-style'] == 'convertible', 'log_price']"
   ]
  },
  {
   "cell_type": "code",
   "execution_count": 64,
   "metadata": {},
   "outputs": [
    {
     "name": "stderr",
     "output_type": "stream",
     "text": [
      "C:\\Users\\zubov\\AppData\\Local\\Continuum\\anaconda3\\lib\\site-packages\\numpy\\core\\fromnumeric.py:57: FutureWarning: reshape is deprecated and will raise in a subsequent release. Please use .values.reshape(...) instead\n",
      "  return getattr(obj, method)(*args, **kwds)\n"
     ]
    },
    {
     "data": {
      "text/plain": [
       "Text(0.5,1,'Box plot by Body Style')"
      ]
     },
     "execution_count": 64,
     "metadata": {},
     "output_type": "execute_result"
    },
    {
     "data": {
      "image/png": "[encoded data removed]",
      "text/plain": [
       "<matplotlib.figure.Figure at 0x21a56d30358>"
      ]
     },
     "metadata": {},
     "output_type": "display_data"
    }
   ],
   "source": [
    "#Log_price boxplot by body-style\n",
    "plt.boxplot([sedan, hatchback, wagon, hardtop, convertible])\n",
    "plt.ylabel('Value')\n",
    "plt.xlabel('Body Style')\n",
    "plt.title('Box plot by Body Style')"
   ]
  },
  {
   "cell_type": "markdown",
   "metadata": {},
   "source": [
    "According the boxplot, there is a significant difference in log_price between different body-styles of autos. The most significant difference probably between convertible cars and any other type of car."
   ]
  },
  {
   "cell_type": "code",
   "execution_count": 35,
   "metadata": {},
   "outputs": [
    {
     "name": "stdout",
     "output_type": "stream",
     "text": [
      "F statistic = 6.49228766671\n",
      "P-value = 7.44769402446e-05\n"
     ]
    }
   ],
   "source": [
    "#F-statistic and P-value for autos with different body-style  (ANOVA test)\n",
    "f_statistic, p_value = ss.f_oneway(sedan, hatchback, wagon, hardtop, convertible) # fill in parameters\n",
    "print('F statistic = ' + str(f_statistic))\n",
    "print('P-value = ' + str(p_value))"
   ]
  },
  {
   "cell_type": "markdown",
   "metadata": {},
   "source": [
    "F-statistic is big, P-value is small. There is a significant difference in price for autos stratified by body-style, so we can\n",
    "reject null hypotesis. "
   ]
  },
  {
   "cell_type": "code",
   "execution_count": 65,
   "metadata": {},
   "outputs": [
    {
     "name": "stdout",
     "output_type": "stream",
     "text": [
      "  Multiple Comparison of Means - Tukey HSD,FWER=0.05 \n",
      "=====================================================\n",
      "   group1     group2  meandiff  lower   upper  reject\n",
      "-----------------------------------------------------\n",
      "convertible  hardtop  -0.7615  -1.7188  0.1958 False \n",
      "convertible hatchback  -1.072  -1.8954 -0.2486  True \n",
      "convertible   sedan   -0.7808    -1.6   0.0385 False \n",
      "convertible   wagon   -0.8712  -1.7265 -0.0159  True \n",
      "  hardtop   hatchback -0.3105  -0.8445  0.2236 False \n",
      "  hardtop     sedan   -0.0192  -0.5469  0.5084 False \n",
      "  hardtop     wagon   -0.1097  -0.6918  0.4724 False \n",
      " hatchback    sedan    0.2912   0.0914  0.4911  True \n",
      " hatchback    wagon    0.2008   -0.116  0.5176 False \n",
      "   sedan      wagon   -0.0904  -0.3963  0.2155 False \n",
      "-----------------------------------------------------\n"
     ]
    },
    {
     "data": {
      "image/png": "[encoded data removed]",
      "text/plain": [
       "<matplotlib.figure.Figure at 0x21a56bee7b8>"
      ]
     },
     "execution_count": 65,
     "metadata": {},
     "output_type": "execute_result"
    },
    {
     "data": {
      "image/png": "[encoded data removed]",
      "text/plain": [
       "<matplotlib.figure.Figure at 0x21a56bee7b8>"
      ]
     },
     "metadata": {},
     "output_type": "display_data"
    }
   ],
   "source": [
    "#Tukey test\n",
    "from statsmodels.stats.multicomp import pairwise_tukeyhsd\n",
    "Tukey_auto = pairwise_tukeyhsd(auto_price['log_price'], auto_price['body-style']) # fill in the parameters\n",
    "print(Tukey_auto)\n",
    "Tukey_auto.plot_simultaneous()"
   ]
  },
  {
   "cell_type": "markdown",
   "metadata": {},
   "source": [
    "According Tukey test null hypotesis is rejected for pairs:\n",
    "* convertible and hatchback;\n",
    "* convertible and wagon;\n",
    "* hatchback and sedan.\n",
    "\n"
   ]
  },
  {
   "cell_type": "markdown",
   "metadata": {},
   "source": [
    "## 4. Differences between the price conditioned by the categories of each variable ##"
   ]
  },
  {
   "cell_type": "markdown",
   "metadata": {},
   "source": [
    "In previous paragraphs we tested price (or log_price) by these categorical variables: body-style, fuel-type, aspiration, wheel drive type.\n",
    "For last two tasks let's check Make, Number of Doors and Fuel System.\n",
    "For graphical analisys I'm going to use boxplots."
   ]
  },
  {
   "cell_type": "markdown",
   "metadata": {},
   "source": [
    "## By Make"
   ]
  },
  {
   "cell_type": "code",
   "execution_count": 66,
   "metadata": {},
   "outputs": [
    {
     "data": {
      "text/plain": [
       "toyota           31\n",
       "nissan           18\n",
       "honda            13\n",
       "subaru           12\n",
       "volvo            11\n",
       "mazda            11\n",
       "mitsubishi       10\n",
       "volkswagen        8\n",
       "dodge             8\n",
       "peugot            7\n",
       "saab              6\n",
       "plymouth          6\n",
       "mercedes-benz     5\n",
       "bmw               4\n",
       "audi              4\n",
       "chevrolet         3\n",
       "porsche           1\n",
       "jaguar            1\n",
       "Name: make, dtype: int64"
      ]
     },
     "execution_count": 66,
     "metadata": {},
     "output_type": "execute_result"
    }
   ],
   "source": [
    "#Check amount distinct values\n",
    "auto_price['make'].value_counts()"
   ]
  },
  {
   "cell_type": "markdown",
   "metadata": {},
   "source": [
    "For following analisys I'll use only makes that are presented more then 5 times. In this case it's more likely that our sample is representative."
   ]
  },
  {
   "cell_type": "code",
   "execution_count": 37,
   "metadata": {
    "collapsed": true
   },
   "outputs": [],
   "source": [
    "#Samples by make\n",
    "toyota = auto_price.loc[auto_price.loc[:, 'make'] == 'toyota', 'log_price']\n",
    "nissan = auto_price.loc[auto_price.loc[:, 'make'] == 'nissan', 'log_price']\n",
    "honda = auto_price.loc[auto_price.loc[:, 'make'] == 'honda', 'log_price']\n",
    "subaru = auto_price.loc[auto_price.loc[:, 'make'] == 'subaru', 'log_price']\n",
    "volvo = auto_price.loc[auto_price.loc[:, 'make'] == 'volvo', 'log_price']\n",
    "mazda = auto_price.loc[auto_price.loc[:, 'make'] == 'mazda', 'log_price']\n",
    "mitsubishi = auto_price.loc[auto_price.loc[:, 'make'] == 'mitsubishi', 'log_price']\n",
    "volkswagen = auto_price.loc[auto_price.loc[:, 'make'] == 'volkswagen', 'log_price']\n",
    "dodge = auto_price.loc[auto_price.loc[:, 'make'] == 'dodge', 'log_price']\n",
    "peugot = auto_price.loc[auto_price.loc[:, 'make'] == 'peugot', 'log_price']\n",
    "saab = auto_price.loc[auto_price.loc[:, 'make'] == 'saab', 'log_price']\n",
    "plymouth = auto_price.loc[auto_price.loc[:, 'make'] == 'plymouth', 'log_price']"
   ]
  },
  {
   "cell_type": "code",
   "execution_count": 41,
   "metadata": {},
   "outputs": [
    {
     "name": "stderr",
     "output_type": "stream",
     "text": [
      "C:\\Users\\zubov\\AppData\\Local\\Continuum\\anaconda3\\lib\\site-packages\\numpy\\core\\fromnumeric.py:57: FutureWarning: reshape is deprecated and will raise in a subsequent release. Please use .values.reshape(...) instead\n",
      "  return getattr(obj, method)(*args, **kwds)\n"
     ]
    },
    {
     "data": {
      "text/plain": [
       "Text(0.5,1,'Box plot by Make')"
      ]
     },
     "execution_count": 41,
     "metadata": {},
     "output_type": "execute_result"
    },
    {
     "data": {
      "image/png": "[encoded data removed]",
      "text/plain": [
       "<matplotlib.figure.Figure at 0x21a56420b70>"
      ]
     },
     "metadata": {},
     "output_type": "display_data"
    }
   ],
   "source": [
    "plt.boxplot([toyota, nissan, honda, subaru, volvo, mazda, mitsubishi, volkswagen, dodge, peugot, saab, plymouth])\n",
    "plt.ylabel('Value')\n",
    "plt.xlabel('Make')\n",
    "plt.title('Box plot by Make')"
   ]
  },
  {
   "cell_type": "markdown",
   "metadata": {},
   "source": [
    "According the boxplot, there is a significant difference in log_price for some makes of autos. The most significant difference probably between volvo and other Make."
   ]
  },
  {
   "cell_type": "markdown",
   "metadata": {},
   "source": [
    "## By Number of Doors ##"
   ]
  },
  {
   "cell_type": "code",
   "execution_count": 19,
   "metadata": {},
   "outputs": [
    {
     "data": {
      "text/plain": [
       "four    95\n",
       "two     64\n",
       "Name: num-of-doors, dtype: int64"
      ]
     },
     "execution_count": 19,
     "metadata": {},
     "output_type": "execute_result"
    }
   ],
   "source": [
    "#Check amount distinct values\n",
    "auto_price['num-of-doors'].value_counts()"
   ]
  },
  {
   "cell_type": "code",
   "execution_count": 42,
   "metadata": {
    "collapsed": true
   },
   "outputs": [],
   "source": [
    "#Samples by number of doors\n",
    "two_doors = auto_price.loc[auto_price.loc[:, 'num-of-doors'] == 'two', 'log_price']\n",
    "four_doors = auto_price.loc[auto_price.loc[:, 'num-of-doors'] == 'four', 'log_price']"
   ]
  },
  {
   "cell_type": "code",
   "execution_count": 43,
   "metadata": {},
   "outputs": [
    {
     "name": "stderr",
     "output_type": "stream",
     "text": [
      "C:\\Users\\zubov\\AppData\\Local\\Continuum\\anaconda3\\lib\\site-packages\\numpy\\core\\fromnumeric.py:57: FutureWarning: reshape is deprecated and will raise in a subsequent release. Please use .values.reshape(...) instead\n",
      "  return getattr(obj, method)(*args, **kwds)\n"
     ]
    },
    {
     "data": {
      "text/plain": [
       "Text(0.5,1,'Box plot by Number of Doors')"
      ]
     },
     "execution_count": 43,
     "metadata": {},
     "output_type": "execute_result"
    },
    {
     "data": {
      "image/png": "[encoded data removed]",
      "text/plain": [
       "<matplotlib.figure.Figure at 0x21a56360f28>"
      ]
     },
     "metadata": {},
     "output_type": "display_data"
    }
   ],
   "source": [
    "plt.boxplot([two_doors, four_doors])\n",
    "plt.ylabel('Value')\n",
    "plt.xlabel('Number of Doors')\n",
    "plt.title('Box plot by Number of Doors')"
   ]
  },
  {
   "cell_type": "markdown",
   "metadata": {},
   "source": [
    "On the boxplot difference by make doesn't look significant. Means are almost equal, confidence intervals overlap."
   ]
  },
  {
   "cell_type": "markdown",
   "metadata": {},
   "source": [
    "## By Fuel System ##"
   ]
  },
  {
   "cell_type": "code",
   "execution_count": 21,
   "metadata": {},
   "outputs": [
    {
     "data": {
      "text/plain": [
       "mpfi    64\n",
       "2bbl    63\n",
       "idi     15\n",
       "1bbl    11\n",
       "spdi     5\n",
       "mfi      1\n",
       "Name: fuel-system, dtype: int64"
      ]
     },
     "execution_count": 21,
     "metadata": {},
     "output_type": "execute_result"
    }
   ],
   "source": [
    "#Check amount distinct values\n",
    "auto_price['fuel-system'].value_counts()"
   ]
  },
  {
   "cell_type": "code",
   "execution_count": 44,
   "metadata": {
    "collapsed": true
   },
   "outputs": [],
   "source": [
    "#Samples by Fuel System\n",
    "mpfi = auto_price.loc[auto_price.loc[:, 'fuel-system'] == 'mpfi', 'log_price']\n",
    "bbl2 = auto_price.loc[auto_price.loc[:, 'fuel-system'] == '2bbl', 'log_price']\n",
    "idi = auto_price.loc[auto_price.loc[:, 'fuel-system'] == 'idi', 'log_price']\n",
    "bbl1 = auto_price.loc[auto_price.loc[:, 'fuel-system'] == '1bbl', 'log_price']\n",
    "spdi = auto_price.loc[auto_price.loc[:, 'fuel-system'] == 'spdi', 'log_price']"
   ]
  },
  {
   "cell_type": "markdown",
   "metadata": {},
   "source": [
    "For following analisys I'll use only fuel systems that are presented 5 or more times. In this case it's more likely that our sample is representative"
   ]
  },
  {
   "cell_type": "code",
   "execution_count": 45,
   "metadata": {},
   "outputs": [
    {
     "name": "stderr",
     "output_type": "stream",
     "text": [
      "C:\\Users\\zubov\\AppData\\Local\\Continuum\\anaconda3\\lib\\site-packages\\numpy\\core\\fromnumeric.py:57: FutureWarning: reshape is deprecated and will raise in a subsequent release. Please use .values.reshape(...) instead\n",
      "  return getattr(obj, method)(*args, **kwds)\n"
     ]
    },
    {
     "data": {
      "text/plain": [
       "Text(0.5,1,'Box plot by Fuel System')"
      ]
     },
     "execution_count": 45,
     "metadata": {},
     "output_type": "execute_result"
    },
    {
     "data": {
      "image/png": "[encoded data removed]",
      "text/plain": [
       "<matplotlib.figure.Figure at 0x21a5638cd68>"
      ]
     },
     "metadata": {},
     "output_type": "display_data"
    }
   ],
   "source": [
    "plt.boxplot([mpfi, bbl2, idi, bbl1, spdi])\n",
    "plt.ylabel('Value')\n",
    "plt.xlabel('Fuel System')\n",
    "plt.title('Box plot by Fuel System')"
   ]
  },
  {
   "cell_type": "markdown",
   "metadata": {},
   "source": [
    "According the boxplot, there is a significant difference in log_price for different fuel systems. "
   ]
  },
  {
   "cell_type": "markdown",
   "metadata": {},
   "source": [
    "## 5. Standard ANOVA and Tukey HSD to test the differences ##"
   ]
  },
  {
   "cell_type": "markdown",
   "metadata": {},
   "source": [
    "Test differences in price (log_price in our case) performing standart Anova and Tukey HSD tests."
   ]
  },
  {
   "cell_type": "markdown",
   "metadata": {},
   "source": [
    "## By Make ##"
   ]
  },
  {
   "cell_type": "code",
   "execution_count": 46,
   "metadata": {},
   "outputs": [
    {
     "name": "stdout",
     "output_type": "stream",
     "text": [
      "F statistic = 11.8248370203\n",
      "P-value = 4.53173919867e-15\n"
     ]
    }
   ],
   "source": [
    "#F-statistic and P-value for autos with different body-style  (ANOVA test)\n",
    "f_statistic, p_value = ss.f_oneway(toyota, nissan, honda, subaru, volvo, mazda, mitsubishi, volkswagen, dodge, peugot, saab, plymouth) # fill in parameters\n",
    "print('F statistic = ' + str(f_statistic))\n",
    "print('P-value = ' + str(p_value))"
   ]
  },
  {
   "cell_type": "markdown",
   "metadata": {},
   "source": [
    "F-statistic is big, P-value is small. There is a significant difference in price for autos stratified by make, so we can\n",
    "reject null hypotesis. "
   ]
  },
  {
   "cell_type": "code",
   "execution_count": 51,
   "metadata": {},
   "outputs": [
    {
     "name": "stdout",
     "output_type": "stream",
     "text": [
      "     Multiple Comparison of Means - Tukey HSD,FWER=0.05    \n",
      "===========================================================\n",
      "    group1        group2    meandiff  lower   upper  reject\n",
      "-----------------------------------------------------------\n",
      "     audi          bmw       0.0447  -0.6149  0.7043 False \n",
      "     audi       chevrolet    -1.098  -1.8105 -0.3856  True \n",
      "     audi         dodge     -0.8661  -1.4374 -0.2949  True \n",
      "     audi         honda     -0.8103  -1.3436 -0.2769  True \n",
      "     audi         jaguar     0.5881  -0.4549  1.631  False \n",
      "     audi         mazda     -0.7395  -1.2841 -0.1948  True \n",
      "     audi     mercedes-benz  0.5006  -0.1251  1.1264 False \n",
      "     audi       mitsubishi  -0.8469  -1.3988  -0.295  True \n",
      "     audi         nissan    -0.6198  -1.1354 -0.1042  True \n",
      "     audi         peugot    -0.1387  -0.7233  0.446  False \n",
      "     audi        plymouth   -0.9288   -1.531 -0.3267  True \n",
      "     audi        porsche     0.2064  -0.8365  1.2493 False \n",
      "     audi          saab     -0.1777  -0.7798  0.4244 False \n",
      "     audi         subaru    -0.7651  -1.3037 -0.2265  True \n",
      "     audi         toyota    -0.6561  -1.1516 -0.1605  True \n",
      "     audi       volkswagen  -0.7226  -1.2939 -0.1514  True \n",
      "     audi         volvo     -0.0075  -0.5522  0.5371 False \n",
      "     bmw        chevrolet   -1.1427  -1.8552 -0.4303  True \n",
      "     bmw          dodge     -0.9108   -1.482 -0.3396  True \n",
      "     bmw          honda      -0.855  -1.3883 -0.3216  True \n",
      "     bmw          jaguar     0.5434  -0.4995  1.5863 False \n",
      "     bmw          mazda     -0.7841  -1.3288 -0.2395  True \n",
      "     bmw      mercedes-benz  0.4559  -0.1698  1.0817 False \n",
      "     bmw        mitsubishi  -0.8916  -1.4434 -0.3397  True \n",
      "     bmw          nissan    -0.6645  -1.1801 -0.1488  True \n",
      "     bmw          peugot    -0.1833   -0.768  0.4013 False \n",
      "     bmw         plymouth   -0.9735  -1.5756 -0.3714  True \n",
      "     bmw         porsche     0.1617  -0.8812  1.2047 False \n",
      "     bmw           saab     -0.2224  -0.8245  0.3797 False \n",
      "     bmw          subaru    -0.8098  -1.3483 -0.2712  True \n",
      "     bmw          toyota    -0.7007  -1.1963 -0.2051  True \n",
      "     bmw        volkswagen  -0.7673  -1.3385 -0.1961  True \n",
      "     bmw          volvo     -0.0522  -0.5968  0.4925 False \n",
      "  chevrolet       dodge      0.2319  -0.3996  0.8634 False \n",
      "  chevrolet       honda      0.2878  -0.3097  0.8852 False \n",
      "  chevrolet       jaguar     1.6861   0.609   2.7632  True \n",
      "  chevrolet       mazda      0.3586   -0.249  0.9662 False \n",
      "  chevrolet   mercedes-benz  1.5987   0.9174  2.2799  True \n",
      "  chevrolet     mitsubishi   0.2511  -0.3629  0.8652 False \n",
      "  chevrolet       nissan     0.4782  -0.1035   1.06  False \n",
      "  chevrolet       peugot     0.9594   0.3157  1.6031  True \n",
      "  chevrolet      plymouth    0.1692  -0.4904  0.8288 False \n",
      "  chevrolet      porsche     1.3045   0.2273  2.3816  True \n",
      "  chevrolet        saab      0.9203   0.2607  1.5799  True \n",
      "  chevrolet       subaru     0.3329  -0.2692  0.9351 False \n",
      "  chevrolet       toyota     0.442    -0.122  1.006  False \n",
      "  chevrolet     volkswagen   0.3754  -0.2561  1.0069 False \n",
      "  chevrolet       volvo      1.0905   0.4829  1.6981  True \n",
      "    dodge         honda      0.0559  -0.3633  0.475  False \n",
      "    dodge         jaguar     1.4542   0.4648  2.4436  True \n",
      "    dodge         mazda      0.1267  -0.3068  0.5601 False \n",
      "    dodge     mercedes-benz  1.3667   0.835   1.8985  True \n",
      "    dodge       mitsubishi   0.0192  -0.4232  0.4617 False \n",
      "    dodge         nissan     0.2463   -0.15   0.6427 False \n",
      "    dodge         peugot     0.7275   0.2447  1.2103  True \n",
      "    dodge        plymouth   -0.0627  -0.5665  0.4411 False \n",
      "    dodge        porsche     1.0725   0.0831  2.0619  True \n",
      "    dodge          saab      0.6884   0.1846  1.1922  True \n",
      "    dodge         subaru     0.101   -0.3247  0.5268 False \n",
      "    dodge         toyota     0.2101  -0.1598   0.58  False \n",
      "    dodge       volkswagen   0.1435  -0.3229  0.6099 False \n",
      "    dodge         volvo      0.8586   0.4252  1.2921  True \n",
      "    honda         jaguar     1.3983   0.4303  2.3664  True \n",
      "    honda         mazda      0.0708  -0.3113  0.453  False \n",
      "    honda     mercedes-benz  1.3109    0.82   1.8018  True \n",
      "    honda       mitsubishi  -0.0366   -0.429  0.3557 False \n",
      "    honda         nissan     0.1905   -0.149   0.53  False \n",
      "    honda         peugot     0.6716   0.2343  1.1089  True \n",
      "    honda        plymouth   -0.1186   -0.579  0.3418 False \n",
      "    honda        porsche     1.0167   0.0487  1.9847  True \n",
      "    honda          saab      0.6326   0.1722  1.093   True \n",
      "    honda         subaru     0.0452  -0.3282  0.4186 False \n",
      "    honda         toyota     0.1542   -0.154  0.4624 False \n",
      "    honda       volkswagen   0.0876  -0.3315  0.5068 False \n",
      "    honda         volvo      0.8028   0.4206  1.1849  True \n",
      "    jaguar        mazda     -1.3275  -2.3018 -0.3532  True \n",
      "    jaguar    mercedes-benz -0.0875  -1.1093  0.9344 False \n",
      "    jaguar      mitsubishi   -1.435  -2.4133 -0.4566  True \n",
      "    jaguar        nissan    -1.2079  -2.1663 -0.2495  True \n",
      "    jaguar        peugot    -0.7267   -1.724  0.2705 False \n",
      "    jaguar       plymouth   -1.5169  -2.5245 -0.5093  True \n",
      "    jaguar       porsche    -0.3817  -1.7009  0.9375 False \n",
      "    jaguar         saab     -0.7658  -1.7733  0.2418 False \n",
      "    jaguar        subaru    -1.3532  -2.3241 -0.3823  True \n",
      "    jaguar        toyota    -1.2441  -2.1919 -0.2964  True \n",
      "    jaguar      volkswagen  -1.3107  -2.3001 -0.3213  True \n",
      "    jaguar        volvo     -0.5956  -1.5699  0.3787 False \n",
      "    mazda     mercedes-benz  1.2401   0.737   1.7432  True \n",
      "    mazda       mitsubishi  -0.1074   -0.515  0.3001 False \n",
      "    mazda         nissan     0.1197  -0.2373  0.4767 False \n",
      "    mazda         peugot     0.6008   0.1498  1.0518  True \n",
      "    mazda        plymouth   -0.1894  -0.6628  0.2841 False \n",
      "    mazda        porsche     0.9459  -0.0284  1.9202 False \n",
      "    mazda          saab      0.5618   0.0883  1.0352  True \n",
      "    mazda         subaru    -0.0256   -0.415  0.3638 False \n",
      "    mazda         toyota     0.0834   -0.244  0.4108 False \n",
      "    mazda       volkswagen   0.0168  -0.4166  0.4503 False \n",
      "    mazda         volvo      0.732    0.3342  1.1297  True \n",
      "mercedes-benz   mitsubishi  -1.3475  -1.8584 -0.8366  True \n",
      "mercedes-benz     nissan    -1.1204   -1.592 -0.6489  True \n",
      "mercedes-benz     peugot    -0.6393  -1.1855 -0.0931  True \n",
      "mercedes-benz    plymouth   -1.4295  -1.9943 -0.8646  True \n",
      "mercedes-benz    porsche    -0.2942  -1.3161  0.7276 False \n",
      "mercedes-benz      saab     -0.6783  -1.2432 -0.1135  True \n",
      "mercedes-benz     subaru    -1.2657  -1.7622 -0.7692  True \n",
      "mercedes-benz     toyota    -1.1567  -1.6062 -0.7071  True \n",
      "mercedes-benz   volkswagen  -1.2233   -1.755 -0.6915  True \n",
      "mercedes-benz     volvo     -0.5081  -1.0113  -0.005  True \n",
      "  mitsubishi      nissan     0.2271  -0.1408  0.595  False \n",
      "  mitsubishi      peugot     0.7082   0.2485  1.1679  True \n",
      "  mitsubishi     plymouth   -0.0819  -0.5636  0.3998 False \n",
      "  mitsubishi     porsche     1.0533   0.075   2.0317  True \n",
      "  mitsubishi       saab      0.6692   0.1875  1.1509  True \n",
      "  mitsubishi      subaru     0.0818  -0.3176  0.4812 False \n",
      "  mitsubishi      toyota     0.1908  -0.1484  0.5301 False \n",
      "  mitsubishi    volkswagen   0.1243  -0.3182  0.5667 False \n",
      "  mitsubishi      volvo      0.8394   0.4318  1.247   True \n",
      "    nissan        peugot     0.4811   0.0656  0.8967  True \n",
      "    nissan       plymouth    -0.309  -0.7488  0.1307 False \n",
      "    nissan       porsche     0.8262  -0.1322  1.7846 False \n",
      "    nissan         saab      0.4421   0.0024  0.8818  True \n",
      "    nissan        subaru    -0.1453  -0.4929  0.2023 False \n",
      "    nissan        toyota    -0.0363  -0.3127  0.2402 False \n",
      "    nissan      volkswagen  -0.1028  -0.4992  0.2935 False \n",
      "    nissan        volvo      0.6123   0.2553  0.9693  True \n",
      "    peugot       plymouth   -0.7902  -1.3091 -0.2712  True \n",
      "    peugot       porsche     0.3451  -0.6522  1.3423 False \n",
      "    peugot         saab     -0.0391   -0.558  0.4799 False \n",
      "    peugot        subaru    -0.6264  -1.0701 -0.1828  True \n",
      "    peugot        toyota    -0.5174  -0.9078  -0.127  True \n",
      "    peugot      volkswagen   -0.584  -1.0668 -0.1012  True \n",
      "    peugot        volvo      0.1311  -0.3199  0.5822 False \n",
      "   plymouth      porsche     1.1352   0.1277  2.1428  True \n",
      "   plymouth        saab      0.7511   0.2126  1.2897  True \n",
      "   plymouth       subaru     0.1637  -0.3027  0.6302 False \n",
      "   plymouth       toyota     0.2728  -0.1433  0.6888 False \n",
      "   plymouth     volkswagen   0.2062  -0.2976   0.71  False \n",
      "   plymouth       volvo      0.9213   0.4479  1.3947  True \n",
      "   porsche         saab     -0.3841  -1.3917  0.6234 False \n",
      "   porsche        subaru    -0.9715  -1.9424 -0.0006  True \n",
      "   porsche        toyota    -0.8625  -1.8102  0.0853 False \n",
      "   porsche      volkswagen  -0.9291  -1.9185  0.0604 False \n",
      "   porsche        volvo     -0.2139  -1.1882  0.7604 False \n",
      "     saab         subaru    -0.5874  -1.0538  -0.121  True \n",
      "     saab         toyota    -0.4783  -0.8944 -0.0623  True \n",
      "     saab       volkswagen  -0.5449  -1.0487 -0.0411  True \n",
      "     saab         volvo      0.1702  -0.3032  0.6436 False \n",
      "    subaru        toyota     0.109   -0.2081  0.4262 False \n",
      "    subaru      volkswagen   0.0425  -0.3833  0.4682 False \n",
      "    subaru        volvo      0.7576   0.3682  1.147   True \n",
      "    toyota      volkswagen  -0.0666  -0.4365  0.3033 False \n",
      "    toyota        volvo      0.6485   0.3212  0.9759  True \n",
      "  volkswagen      volvo      0.7151   0.2817  1.1486  True \n",
      "-----------------------------------------------------------\n"
     ]
    },
    {
     "data": {
      "image/png": "[encoded data removed]",
      "text/plain": [
       "<matplotlib.figure.Figure at 0x21a5629d0f0>"
      ]
     },
     "execution_count": 51,
     "metadata": {},
     "output_type": "execute_result"
    },
    {
     "data": {
      "image/png": "[encoded data removed]",
      "text/plain": [
       "<matplotlib.figure.Figure at 0x21a5629d0f0>"
      ]
     },
     "metadata": {},
     "output_type": "display_data"
    }
   ],
   "source": [
    "Tukey_make = pairwise_tukeyhsd(auto_price['log_price'], auto_price['make']) # fill in the parameters\n",
    "print(Tukey_make)\n",
    "Tukey_make.plot_simultaneous()"
   ]
  },
  {
   "cell_type": "markdown",
   "metadata": {},
   "source": [
    "According Tukey test null hypotesis could be rejected for almost all pairs of makes."
   ]
  },
  {
   "cell_type": "markdown",
   "metadata": {},
   "source": [
    "## By Number of Doors ##"
   ]
  },
  {
   "cell_type": "code",
   "execution_count": 49,
   "metadata": {},
   "outputs": [
    {
     "name": "stdout",
     "output_type": "stream",
     "text": [
      "F statistic = 7.6476548772\n",
      "P-value = 0.00636631623862\n"
     ]
    }
   ],
   "source": [
    "f_statistic, p_value = ss.f_oneway(two_doors, four_doors) # fill in parameters\n",
    "print('F statistic = ' + str(f_statistic))\n",
    "print('P-value = ' + str(p_value))"
   ]
  },
  {
   "cell_type": "markdown",
   "metadata": {},
   "source": [
    "F-statistic is big, P-value is less than confidence level. There is a difference in price for autos stratified by number of doors, so we can reject the null hypotesis. "
   ]
  },
  {
   "cell_type": "code",
   "execution_count": 53,
   "metadata": {},
   "outputs": [
    {
     "name": "stdout",
     "output_type": "stream",
     "text": [
      "Multiple Comparison of Means - Tukey HSD,FWER=0.05\n",
      "=============================================\n",
      "group1 group2 meandiff  lower   upper  reject\n",
      "---------------------------------------------\n",
      " four   two   -0.1938  -0.3322 -0.0554  True \n",
      "---------------------------------------------\n"
     ]
    }
   ],
   "source": [
    "Tukey_door = pairwise_tukeyhsd(auto_price['log_price'], auto_price['num-of-doors']) # fill in the parameters\n",
    "print(Tukey_door)\n"
   ]
  },
  {
   "cell_type": "markdown",
   "metadata": {},
   "source": [
    "According Tukey test null hypotesis could be rejected."
   ]
  },
  {
   "cell_type": "markdown",
   "metadata": {},
   "source": [
    "## By Fuel System ##"
   ]
  },
  {
   "cell_type": "code",
   "execution_count": 54,
   "metadata": {},
   "outputs": [
    {
     "name": "stdout",
     "output_type": "stream",
     "text": [
      "F statistic = 46.5771070118\n",
      "P-value = 1.48566619217e-25\n"
     ]
    }
   ],
   "source": [
    "f_statistic, p_value = ss.f_oneway(mpfi, bbl2, idi, bbl1, spdi) # fill in parameters\n",
    "print('F statistic = ' + str(f_statistic))\n",
    "print('P-value = ' + str(p_value))"
   ]
  },
  {
   "cell_type": "markdown",
   "metadata": {},
   "source": [
    "F-statistic is big, P-value is less than confidence level. There is a difference in price for autos stratified by fuel system, so we can reject the null hypotesis. "
   ]
  },
  {
   "cell_type": "code",
   "execution_count": 67,
   "metadata": {},
   "outputs": [
    {
     "name": "stdout",
     "output_type": "stream",
     "text": [
      "Multiple Comparison of Means - Tukey HSD,FWER=0.05\n",
      "=============================================\n",
      "group1 group2 meandiff  lower   upper  reject\n",
      "---------------------------------------------\n",
      " 1bbl   2bbl  -0.0169  -0.3013  0.2676 False \n",
      " 1bbl   idi    0.6334   0.2879  0.979   True \n",
      " 1bbl   mfi    0.5549  -0.3543  1.4641 False \n",
      " 1bbl   mpfi   0.6527   0.3685  0.9368  True \n",
      " 1bbl   spdi   0.1663  -0.3032  0.6358 False \n",
      " 2bbl   idi    0.6503   0.4002  0.9004  True \n",
      " 2bbl   mfi    0.5718  -0.3056  1.4491 False \n",
      " 2bbl   mpfi   0.6695   0.515   0.824   True \n",
      " 2bbl   spdi   0.1831  -0.2213  0.5876 False \n",
      " idi    mfi   -0.0785  -0.9776  0.8205 False \n",
      " idi    mpfi   0.0193  -0.2305  0.269  False \n",
      " idi    spdi  -0.4671  -0.9166 -0.0176  True \n",
      " mfi    mpfi   0.0978  -0.7795  0.975  False \n",
      " mfi    spdi  -0.3886  -1.3422  0.565  False \n",
      " mpfi   spdi  -0.4864  -0.8906 -0.0822  True \n",
      "---------------------------------------------\n"
     ]
    },
    {
     "data": {
      "image/png": "[encoded data removed]",
      "text/plain": [
       "<matplotlib.figure.Figure at 0x21a56dc3b00>"
      ]
     },
     "execution_count": 67,
     "metadata": {},
     "output_type": "execute_result"
    },
    {
     "data": {
      "image/png": "[encoded data removed]",
      "text/plain": [
       "<matplotlib.figure.Figure at 0x21a56dc3b00>"
      ]
     },
     "metadata": {},
     "output_type": "display_data"
    }
   ],
   "source": [
    "Tukey_fuel = pairwise_tukeyhsd(auto_price['log_price'], auto_price['fuel-system']) # fill in the parameters\n",
    "print(Tukey_fuel)\n",
    "Tukey_fuel.plot_simultaneous()"
   ]
  },
  {
   "cell_type": "markdown",
   "metadata": {},
   "source": [
    "According Tukey test null hypotesis is rejected for pairs:\n",
    "* 1bbl and idi;\n",
    "* 1bbl and mpfi;\n",
    "* 2bbl and idi;\n",
    "* 2bbl and mpfi;\n",
    "* idi and spdi;\n",
    "* mpfi and spdi."
   ]
  },
  {
   "cell_type": "markdown",
   "metadata": {},
   "source": [
    "## SUMMARY ##\n",
    "\n",
    "In Assignment #4:\n",
    "1. Normality the distributions of price and log price  was tested  using Q-Q plot test and double-sided t-test.\n",
    "According these test distributions both aren't normal, but log_price is more likely \"normal\" than price.\n",
    "2. Significances of price stratified by a) fuel type, b) aspiration, and c) rear vs. front wheel drive were tested.\n",
    "3. ANOVA and Tukey's HSD test were applied to test differences between the log_price conditioned by body-style. They've shown that there is a difference between different body-styles of autos. \n",
    "4. The differences between the log_price conditioned by make, num of doors and fuel system were shown using box-plots.\n",
    "5. ANOVA and Tukey's HSD test were applied to test differences between the log_price conditioned by make, num of doors and fuel system. They've shown that there is a difference between different categories for each variable."
   ]
  }
 ],
 "metadata": {
  "kernelspec": {
   "display_name": "Python 3",
   "language": "python",
   "name": "python3"
  },
  "language_info": {
   "codemirror_mode": {
    "name": "ipython",
    "version": 3
   },
   "file_extension": ".py",
   "mimetype": "text/x-python",
   "name": "python",
   "nbconvert_exporter": "python",
   "pygments_lexer": "ipython3",
   "version": "3.6.3"
  }
 },
 "nbformat": 4,
 "nbformat_minor": 2
}
